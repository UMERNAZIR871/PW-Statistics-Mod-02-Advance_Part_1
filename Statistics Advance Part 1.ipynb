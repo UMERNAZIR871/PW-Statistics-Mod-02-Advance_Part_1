{
 "cells": [
  {
   "cell_type": "markdown",
   "id": "2d570a47-31ba-4c17-93d2-09c670c899ac",
   "metadata": {},
   "source": [
    "# Statistics Advance Part 1"
   ]
  },
  {
   "cell_type": "markdown",
   "id": "a83e8dc2-ff7b-4f22-a635-6ed8aacafd44",
   "metadata": {},
   "source": [
    "#     Theory Section"
   ]
  },
  {
   "cell_type": "markdown",
   "id": "98b71758-55dd-499b-85d0-4bd0c0232598",
   "metadata": {},
   "source": [
    "**Q 1.  What is a random variable in probability theory?**"
   ]
  },
  {
   "cell_type": "markdown",
   "id": "c2f9aa7a-1886-4543-b9ab-90e232f2baf0",
   "metadata": {},
   "source": [
    "**Ans.** In probability theory, a random variable is a function that assigns a numerical value to each outcome in a sample space of a random experiment.\n",
    "\n",
    "- Two Key Types:\n",
    "1. Discrete Random Variable:\n",
    "    - Takes on a countable number of possible values.\n",
    "    - Example: The result of rolling a die (1, 2, 3, 4, 5, 6).\n",
    "\n",
    "2. Continuous Random Variable:\n",
    "    - Takes on an infinite number of possible values within a given range.\n",
    "    - Example: The exact height of a person (e.g., 170.25 cm)."
   ]
  },
  {
   "cell_type": "markdown",
   "id": "b62175f5-c348-4cf5-af8a-2e5f48a22d15",
   "metadata": {},
   "source": [
    "Example:\n",
    "- If you toss a fair coin:\n",
    "    - Let X be a random variable defined as:\n",
    "    - X = 1 if heads,\n",
    "    - X = 0 if tails.\n",
    "    - Then X is a discrete random variable.\n",
    "\n",
    "- Why It Matters:\n",
    "    - Random variables allow us to quantify uncertainty, enabling the use of tools like:\n",
    "         - Probability distributions\n",
    "         - Expected value\n",
    "         - Variance\n",
    "         - Standard deviation"
   ]
  },
  {
   "cell_type": "markdown",
   "id": "240ef700-fd64-461e-9470-431cf9d25db1",
   "metadata": {},
   "source": [
    "**Q 2.  What are the types of random variables?**"
   ]
  },
  {
   "cell_type": "markdown",
   "id": "f2aca729-b748-4e1f-8814-f4439f7a8295",
   "metadata": {},
   "source": [
    "**aNS.** There are two main types of random variables in probability theory:\n",
    "\n",
    "1. Discrete Random Variable\n",
    "    - Takes countable values (finite or countably infinite).\n",
    "    - Examples: 0, 1, 2, 3, …\n",
    "    - Often used in scenarios involving counts.\n",
    "\n",
    "    - Examples:\n",
    "        - Number of heads in 5 coin tosses.\n",
    "        - Number of students present in a class.\n",
    "        - Rolling a die: values = {1, 2, 3, 4, 5, 6}.\n",
    "\n",
    "2. Continuous Random Variable\n",
    "    - Takes uncountably infinite values within an interval.\n",
    "    - Can take any value within a range.\n",
    "    - Often used in scenarios involving measurements.\n",
    "\n",
    "    - Examples:\n",
    "        - Height or weight of a person.\n",
    "        - Time taken to complete a task.\n",
    "        - Temperature on a given day."
   ]
  },
  {
   "cell_type": "markdown",
   "id": "2be75d4b-7c59-4e77-a0b4-0781cbb1cfdc",
   "metadata": {},
   "source": [
    "**Q 3. What is the difference between discrete and continuous distributions?**"
   ]
  },
  {
   "cell_type": "markdown",
   "id": "b65a0e4f-b70a-4231-a02f-32a94260aa1e",
   "metadata": {},
   "source": [
    "**Ans.** The difference between discrete and continuous distributions lies in the type of values the random variable can take and how probabilities are assigned:"
   ]
  },
  {
   "cell_type": "markdown",
   "id": "b355b814-bde0-4315-ac3c-07e041aa55b6",
   "metadata": {},
   "source": [
    "1. Discrete Distribution:\n",
    "    - Deals with discrete random variables (countable outcomes).\n",
    "    - Probabilities are assigned to specific values.\n",
    "    - Represented by a probability mass function (PMF).\n",
    "    - Example:\n",
    "        - Tossing a coin 3 times → Number of heads: 0, 1, 2, or 3\n",
    "        - Each outcome has a specific probability.\n",
    "2. Continuous Distribution\n",
    "    - Deals with continuous random variables (uncountably infinite values).\n",
    "    - Probabilities are assigned over intervals, not individual values.\n",
    "    - Represented by a probability density function (PDF).\n",
    "    - Example:\n",
    "        - Height of people: Values like 170.25 cm, 170.251 cm, etc.\n",
    "        - Probability of exactly 170 cm = 0; but probability between 169.5 and 170.5 is positive."
   ]
  },
  {
   "cell_type": "markdown",
   "id": "f2192ede-7674-4867-a7a2-b668455a4957",
   "metadata": {},
   "source": [
    "**Q 4. What are probability distribution functions (PDF)?**"
   ]
  },
  {
   "cell_type": "markdown",
   "id": "acdb6fd8-a46b-46b1-abe3-69fde522cca7",
   "metadata": {},
   "source": [
    "**Ans.** In probability theory, a probability distribution function (PDF) describes how the values of a random variable are distributed—that is, how likely different outcomes are."
   ]
  },
  {
   "cell_type": "markdown",
   "id": "0acd4435-9aa1-4cc0-b687-dec73294c033",
   "metadata": {},
   "source": [
    "There are two main types, depending on whether the random variable is discrete or continuous:"
   ]
  },
  {
   "cell_type": "markdown",
   "id": "d14127ff-6ade-4f03-a89c-063c974c04ec",
   "metadata": {},
   "source": [
    "### 1. For Discrete Random Variables:\n",
    "\n",
    "**Probability Mass Function (PMF)**  \n",
    "- Gives the probability that a **discrete random variable** is exactly equal to some value.\n",
    "- Notation:\n",
    "\n",
    "$$\n",
    "P(X = x)\n",
    "$$\n",
    "\n",
    "- Example: Tossing a fair die  \n",
    "$$\n",
    "P(X = 3) = \\frac{1}{6}\n",
    "$$\n",
    "---\n",
    "\n",
    "### 2. For Continuous Random Variables:\n",
    "\n",
    "**Probability Density Function (PDF)**  \n",
    "- Describes the *relative likelihood* for a **continuous random variable** to take on a value.\n",
    "- Probability is found **over an interval**, not at a single point.\n",
    "- The area under the curve between two values represents the probability:\n",
    "\n",
    "$$\n",
    "P(a \\leq X \\leq b) = \\int_a^b f(x)\\, dx\n",
    "$$\n",
    "\n",
    "- For any single value:\n",
    "$$\n",
    "P(X = x) = 0\n",
    "$$\n",
    "(because there's an infinite number of possible values)"
   ]
  },
  {
   "cell_type": "markdown",
   "id": "6fdbed78-d8d4-4589-b1fb-d4ad79a5ac80",
   "metadata": {},
   "source": [
    "Example: Normal distribution with mean = 0 and standard deviation = 1\n",
    "- Bell-shaped curve\n",
    "- PDF gives higher values near the mean"
   ]
  },
  {
   "cell_type": "markdown",
   "id": "045637c0-3d78-434c-a378-15bd896326e2",
   "metadata": {},
   "source": [
    "**Q 5. How do cumulative distribution functions (CDF) differ from probability distribution functions (PDF)?**"
   ]
  },
  {
   "cell_type": "markdown",
   "id": "8ec9354f-4f78-41bd-9fdb-8773203d9d6a",
   "metadata": {},
   "source": [
    "**Ans.** "
   ]
  },
  {
   "cell_type": "markdown",
   "id": "9ea9f597-d2c8-4c95-8d00-8315daaa0283",
   "metadata": {},
   "source": [
    "| Feature            | [Probability Distribution Function (PDF)](w)                                                                                             | [Cumulative Distribution Function (CDF)](w)                                                        |\n",
    "| ------------------ | ---------------------------------------------------------------------------------------------------------------------------------------- | -------------------------------------------------------------------------------------------------- |\n",
    "| **Definition**     | Describes the **likelihood** of a random variable taking a specific value (for discrete) or falling within an interval (for continuous). | Describes the **probability** that a random variable is **less than or equal to** a certain value. |\n",
    "| **Representation** | $f(x)$                                                                                                                                   | $F(x) = P(X \\leq x)$                                                                               |\n",
    "| **Values**         | For continuous: $f(x) \\geq 0$, but not a probability directly. <br> For discrete: $P(X = x)$.                                            | Always between 0 and 1.                                                                            |\n",
    "| **Use**            | Tells how **densely** the values are distributed.                                                                                        | Tells the **accumulated probability** up to a point.                                               |\n",
    "| **Graph**          | Usually a curve that peaks and falls (like bell-shaped for normal distribution).                                                         | Always a **non-decreasing** curve from 0 to 1.                                                     |\n",
    "| **Relation**       | CDF is the **integral** (area under curve) of the PDF for continuous variables:  <br> $F(x) = \\int_{-\\infty}^{x} f(t)\\,dt$               | PDF is the **derivative** of the CDF (if it exists):  <br> $f(x) = \\frac{d}{dx}F(x)$               |\n"
   ]
  },
  {
   "cell_type": "markdown",
   "id": "cb9b1c22-fc3a-4fe4-9db6-ddbe27cff0cf",
   "metadata": {},
   "source": [
    "**Q 6.  What is a discrete uniform distribution?**"
   ]
  },
  {
   "cell_type": "markdown",
   "id": "a78e48ac-5ced-4991-8d98-5a92d789d2be",
   "metadata": {},
   "source": [
    "**Ans.**"
   ]
  },
  {
   "cell_type": "markdown",
   "id": "8174508e-4121-475a-b2ea-f2413cfaa1fd",
   "metadata": {},
   "source": [
    "A **discrete uniform distribution** is a probability distribution in which all outcomes are **equally likely**.\n",
    "\n",
    "If a random variable \\( X \\) can take on \\( n \\) distinct values \\( x_1, x_2, ..., x_n \\), then:\n",
    "\n",
    "$$\n",
    "P(X = x_i) = \\frac{1}{n}, \\quad \\text{for } i = 1, 2, ..., n\n",
    "$$\n",
    "\n",
    "---\n",
    "\n",
    "### 🎲 Example:\n",
    "- Rolling a fair 6-sided die:\n",
    "  - Possible outcomes: \\( \\{1, 2, 3, 4, 5, 6\\} \\)\n",
    "  - Probability of each outcome:\n",
    "\n",
    "$$\n",
    "P(X = x) = \\frac{1}{6}\n",
    "$$\n",
    "\n",
    "---\n",
    "\n",
    "### 📊 Properties:\n",
    "- **Mean** (Expected Value):\n",
    "\n",
    "$$\n",
    "\\mu = \\frac{a + b}{2}\n",
    "$$\n",
    "\n",
    "- **Variance**:\n",
    "\n",
    "$$\n",
    "\\sigma^2 = \\frac{(b - a + 1)^2 - 1}{12}\n",
    "$$\n",
    "\n",
    "Where \\( a \\) and \\( b \\) are the smallest and largest values that \\( X \\) can take.\n",
    "\n",
    "---\n",
    "\n",
    "### 🧠 Use Cases:\n",
    "- Fair dice rolls  \n",
    "- Random draws where each value is equally likely\n"
   ]
  },
  {
   "cell_type": "markdown",
   "id": "0de566e6-c73b-4a99-a97c-b73df464afcb",
   "metadata": {},
   "source": [
    "**Q 7. What are the key properties of a Bernoulli distribution?**"
   ]
  },
  {
   "cell_type": "markdown",
   "id": "77046ae8-0c2c-4ab9-85ed-ba4a3d65f686",
   "metadata": {},
   "source": [
    "**Ans.** "
   ]
  },
  {
   "attachments": {
    "0cc8fd1b-eef9-4be4-a29a-c5bb523fb1e7.png": {
     "image/png": "[encoded data removed]"
    }
   },
   "cell_type": "markdown",
   "id": "635de2ad-dbcd-4d32-97a7-f514d6de3a77",
   "metadata": {},
   "source": [
    "The **Bernoulli distribution** models a random experiment with only **two possible outcomes**: 1 (success) or 0 (failure).\n",
    "\n",
    "---\n",
    "\n",
    "## 🔑 Key Properties:\n",
    "\n",
    "### 1. Binary Outcomes:\n",
    "- The random variable \\( X \\in \\{0, 1\\} \\)\n",
    "- Typically:  \n",
    "  - \\( X = 1 \\rightarrow \\text{success} \\)  \n",
    "  - \\( X = 0 \\rightarrow \\text{failure} \\)\n",
    "\n",
    "---\n",
    "![image.png](attachment:0cc8fd1b-eef9-4be4-a29a-c5bb523fb1e7.png)\n",
    "\n",
    "---\n",
    "\n",
    "### 8. Memoryless Property:\n",
    "\n",
    "- The Bernoulli distribution **does not** have the memoryless property.\n",
    "\n",
    "---\n",
    "\n",
    "### 9. Relation to Other Distributions:\n",
    "\n",
    "- A **Binomial distribution** with \\( n = 1 \\) is a Bernoulli distribution.\n",
    "- It is a special case of the **Categorical distribution** with 2 classes."
   ]
  },
  {
   "cell_type": "markdown",
   "id": "e89ca364-f736-4f63-8930-5445f0b0c886",
   "metadata": {},
   "source": [
    "**Q 8. What is the binomial distribution, and how is it used in probability?**"
   ]
  },
  {
   "cell_type": "markdown",
   "id": "1938ac08-bc9c-42f7-88e2-f40c1e9b4233",
   "metadata": {},
   "source": [
    "**Ans.** The **Binomial Distribution** is a discrete probability distribution that models the number of successes in a fixed number of independent **Bernoulli trials**, each with the same probability of success.\n",
    "\n",
    "---\n",
    "\n",
    "### ✅ Key Characteristics:\n",
    "- The experiment consists of **n independent trials**.\n",
    "- Each trial has **only two outcomes**: Success (S) or Failure (F).\n",
    "- The **probability of success (p)** remains constant for each trial.\n",
    "- The **random variable X** represents the number of successes in n trials.\n",
    "\n",
    "---\n",
    "\n",
    "### 📐 Probability Mass Function (PMF):\n",
    "\n",
    "The probability of observing exactly \\( k \\) successes in \\( n \\) trials is given by:\n",
    "\n",
    "\\[\n",
    "P(X = k) = \\binom{n}{k} p^k (1 - p)^{n - k}\n",
    "\\]\n",
    "\n",
    "Where:\n",
    "- \\( \\binom{n}{k} = \\frac{n!}{k!(n-k)!} \\) is the **binomial coefficient**,\n",
    "- \\( p \\) is the probability of success,\n",
    "- \\( (1 - p) \\) is the probability of failure,\n",
    "- \\( k = 0, 1, 2, ..., n \\)\n",
    "\n",
    "---\n",
    "\n",
    "### 🧠 Usage in Probability:\n",
    "\n",
    "Binomial distribution is used when:\n",
    "- You want to find the probability of a **specific number of successes** (like getting 3 heads in 5 coin tosses).\n",
    "- Modeling **binary outcomes** like pass/fail, yes/no, success/failure in repeated experiments.\n",
    "\n",
    "---\n",
    "\n",
    "### 📊 Example:\n",
    "\n",
    "If you flip a fair coin 10 times, what is the probability of getting exactly 6 heads?\n",
    "\n",
    "Let \\( n = 10 \\), \\( k = 6 \\), and \\( p = 0.5 \\):\n",
    "\n",
    "\\[\n",
    "P(X = 6) = \\binom{10}{6} (0.5)^6 (0.5)^4 = \\binom{10}{6} (0.5)^{10}\n",
    "\\]\n"
   ]
  },
  {
   "cell_type": "markdown",
   "id": "4017035a-98d8-4667-a887-d6f99974fb48",
   "metadata": {},
   "source": [
    "**Q 9. What is the Poisson distribution and where is it applied?**"
   ]
  },
  {
   "cell_type": "markdown",
   "id": "ba1fe083-0b46-403b-a135-bafda5a6b4eb",
   "metadata": {},
   "source": [
    "**Ans.** The **Poisson Distribution** is a discrete probability distribution that expresses the probability of a given number of events occurring in a **fixed interval of time or space**, assuming the events occur with a known constant mean rate and independently of the time since the last event.\n",
    "\n",
    "---\n",
    "\n",
    "### ✅ Key Characteristics:\n",
    "- It models the **number of occurrences** of an event in a fixed interval (time, area, volume, etc.).\n",
    "- Events occur **independently**.\n",
    "- The **average rate (λ or lambda)** of events is constant.\n",
    "- Two events **cannot occur at the exact same instant**.\n",
    "\n",
    "---\n",
    "\n",
    "### 📐 Probability Mass Function (PMF):\n",
    "\n",
    "The probability of observing exactly \\( k \\) events is given by:\n",
    "\n",
    "\\[\n",
    "P(X = k) = \\frac{e^{-\\lambda} \\lambda^k}{k!}\n",
    "\\]\n",
    "\n",
    "Where:\n",
    "- \\( \\lambda \\) = expected number of occurrences in the interval (mean rate),\n",
    "- \\( k \\) = actual number of occurrences (0, 1, 2, ...),\n",
    "- \\( e \\) = Euler’s number (approximately 2.71828).\n",
    "\n",
    "---\n",
    "\n",
    "### 🧠 Applications of Poisson Distribution:\n",
    "\n",
    "Poisson distribution is used when modeling:\n",
    "- The number of **emails received per hour**.\n",
    "- The number of **accidents at a traffic signal** per week.\n",
    "- The number of **calls at a call center** in a given time frame.\n",
    "- The number of **decay events** per second from a radioactive source.\n",
    "- The number of **spelling errors per page** in typed text.\n",
    "\n",
    "---\n",
    "\n",
    "### 📊 Example:\n",
    "\n",
    "If a call center receives an average of 5 calls per hour, what is the probability it receives exactly 3 calls in an hour?\n",
    "\n",
    "Let \\( \\lambda = 5 \\), \\( k = 3 \\):\n",
    "\n",
    "\\[\n",
    "P(X = 3) = \\frac{e^{-5} \\cdot 5^3}{3!} = \\frac{e^{-5} \\cdot 125}{6}\n",
    "\\]\n"
   ]
  },
  {
   "attachments": {},
   "cell_type": "markdown",
   "id": "7c582cb9-1bf1-4dee-ac1d-d84b9ad01f77",
   "metadata": {},
   "source": [
    "**Q 10.  What is a continuous uniform distribution?**"
   ]
  },
  {
   "cell_type": "markdown",
   "id": "d55f3fcd-d76a-4a4f-9b20-3801ecb5a4a5",
   "metadata": {},
   "source": [
    "**Ans.** The **Continuous Uniform Distribution** is a type of probability distribution in which **all outcomes in a continuous interval are equally likely**. It is defined over an interval \\([a, b]\\), where:\n",
    "- Every value between \\(a\\) and \\(b\\) is **equally probable**.\n",
    "- The distribution has a **constant probability density**.\n",
    "\n",
    "---\n",
    "\n",
    "### ✅ Key Properties:\n",
    "- **Support**: \\( a \\leq x \\leq b \\)\n",
    "- **Probability Density Function (PDF)**:\n",
    "\n",
    "\\[\n",
    "f(x) = \n",
    "\\begin{cases}\n",
    "\\frac{1}{b - a}, & \\text{for } a \\leq x \\leq b \\\\\n",
    "0, & \\text{otherwise}\n",
    "\\end{cases}\n",
    "\\]\n",
    "\n",
    "- **Mean** (Expected value):\n",
    "\n",
    "\\[\n",
    "\\mu = \\frac{a + b}{2}\n",
    "\\]\n",
    "\n",
    "- **Variance**:\n",
    "\n",
    "\\[\n",
    "\\sigma^2 = \\frac{(b - a)^2}{12}\n",
    "\\]\n",
    "\n",
    "---\n",
    "\n",
    "### 🧠 Applications:\n",
    "\n",
    "Continuous uniform distribution is used when:\n",
    "- The probability of any value in a given range is **equally likely**.\n",
    "- **Random number generation** within a fixed range.\n",
    "- **Modeling measurement errors** with no known bias.\n",
    "- **Simulations**, where equally likely outcomes are needed over a continuous range.\n",
    "\n",
    "---\n",
    "\n",
    "### 📊 Example:\n",
    "\n",
    "If a bus arrives at a stop **every 30 minutes**, and you arrive at a **random time**, the waiting time is uniformly distributed between 0 and 30 minutes.\n",
    "\n",
    "Let \\( a = 0 \\), \\( b = 30 \\):\n",
    "\n",
    "\\[\n",
    "f(x) = \\frac{1}{30}, \\quad \\text{for } 0 \\leq x \\leq 30\n",
    "\\]\n"
   ]
  },
  {
   "cell_type": "markdown",
   "id": "71ba81e5-24f6-49cc-b0d0-8f2721a55bc6",
   "metadata": {},
   "source": [
    "**Q 11.  What are the characteristics of a normal distribution?**"
   ]
  },
  {
   "cell_type": "markdown",
   "id": "5773e7b2-12e8-42b1-af11-c93796f27e72",
   "metadata": {},
   "source": [
    "**Ans.** The **Normal Distribution** (or Gaussian distribution) is a **bell-shaped**, **symmetric** probability distribution defined by its **mean (μ)** and **standard deviation (σ)**.\n",
    "\n",
    "---\n",
    "\n",
    "### ✅ Key Characteristics:\n",
    "- **Symmetric** about the mean \\( \\mu \\)\n",
    "- **Mean = Median = Mode**\n",
    "- Follows the **68-95-99.7 Rule**:\n",
    "  - ~68% of data within \\( \\mu \\pm 1\\sigma \\)\n",
    "  - ~95% within \\( \\mu \\pm 2\\sigma \\)\n",
    "  - ~99.7% within \\( \\mu \\pm 3\\sigma \\)\n",
    "- Total area under the curve = **1**\n",
    "- Tails extend infinitely in both directions\n",
    "\n",
    "---\n",
    "\n",
    "### 📐 Probability Density Function (PDF):\n",
    "\n",
    "\\[ f(x) = \\frac{1}{\\sigma \\sqrt{2\\pi}} e^{-\\frac{(x - \\mu)^2}{2\\sigma^2}}\\]\n",
    "\n",
    "---\n",
    "\n",
    "### 🧠 Applications:\n",
    "Used in **natural and social sciences**, **statistics**, **machine learning**, and **quality control**.\n"
   ]
  }
 ],
 "metadata": {
  "kernelspec": {
   "display_name": "Python 3 (ipykernel)",
   "language": "python",
   "name": "python3"
  },
  "language_info": {
   "codemirror_mode": {
    "name": "ipython",
    "version": 3
   },
   "file_extension": ".py",
   "mimetype": "text/x-python",
   "name": "python",
   "nbconvert_exporter": "python",
   "pygments_lexer": "ipython3",
   "version": "3.13.3"
  }
 },
 "nbformat": 4,
 "nbformat_minor": 5
}
