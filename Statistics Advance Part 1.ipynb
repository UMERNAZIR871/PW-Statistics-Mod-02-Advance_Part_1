{
 "cells": [
  {
   "cell_type": "markdown",
   "id": "2d570a47-31ba-4c17-93d2-09c670c899ac",
   "metadata": {},
   "source": [
    "# Statistics Advance Part 1"
   ]
  },
  {
   "cell_type": "markdown",
   "id": "a83e8dc2-ff7b-4f22-a635-6ed8aacafd44",
   "metadata": {},
   "source": [
    "#     Theory Section"
   ]
  },
  {
   "cell_type": "markdown",
   "id": "98b71758-55dd-499b-85d0-4bd0c0232598",
   "metadata": {},
   "source": [
    "**Q 1.  What is a random variable in probability theory?**"
   ]
  },
  {
   "cell_type": "markdown",
   "id": "c2f9aa7a-1886-4543-b9ab-90e232f2baf0",
   "metadata": {},
   "source": [
    "**Ans.** In probability theory, a random variable is a function that assigns a numerical value to each outcome in a sample space of a random experiment.\n",
    "\n",
    "- Two Key Types:\n",
    "1. Discrete Random Variable:\n",
    "    - Takes on a countable number of possible values.\n",
    "    - Example: The result of rolling a die (1, 2, 3, 4, 5, 6).\n",
    "\n",
    "2. Continuous Random Variable:\n",
    "    - Takes on an infinite number of possible values within a given range.\n",
    "    - Example: The exact height of a person (e.g., 170.25 cm)."
   ]
  },
  {
   "cell_type": "markdown",
   "id": "b62175f5-c348-4cf5-af8a-2e5f48a22d15",
   "metadata": {},
   "source": [
    "Example:\n",
    "- If you toss a fair coin:\n",
    "    - Let X be a random variable defined as:\n",
    "    - X = 1 if heads,\n",
    "    - X = 0 if tails.\n",
    "    - Then X is a discrete random variable.\n",
    "\n",
    "- Why It Matters:\n",
    "    - Random variables allow us to quantify uncertainty, enabling the use of tools like:\n",
    "         - Probability distributions\n",
    "         - Expected value\n",
    "         - Variance\n",
    "         - Standard deviation"
   ]
  },
  {
   "cell_type": "markdown",
   "id": "240ef700-fd64-461e-9470-431cf9d25db1",
   "metadata": {},
   "source": [
    "**Q 2.  What are the types of random variables?**"
   ]
  },
  {
   "cell_type": "markdown",
   "id": "f2aca729-b748-4e1f-8814-f4439f7a8295",
   "metadata": {},
   "source": [
    "**aNS.** There are two main types of random variables in probability theory:\n",
    "\n",
    "1. Discrete Random Variable\n",
    "    - Takes countable values (finite or countably infinite).\n",
    "    - Examples: 0, 1, 2, 3, …\n",
    "    - Often used in scenarios involving counts.\n",
    "\n",
    "    - Examples:\n",
    "        - Number of heads in 5 coin tosses.\n",
    "        - Number of students present in a class.\n",
    "        - Rolling a die: values = {1, 2, 3, 4, 5, 6}.\n",
    "\n",
    "2. Continuous Random Variable\n",
    "    - Takes uncountably infinite values within an interval.\n",
    "    - Can take any value within a range.\n",
    "    - Often used in scenarios involving measurements.\n",
    "\n",
    "    - Examples:\n",
    "        - Height or weight of a person.\n",
    "        - Time taken to complete a task.\n",
    "        - Temperature on a given day."
   ]
  },
  {
   "cell_type": "markdown",
   "id": "2be75d4b-7c59-4e77-a0b4-0781cbb1cfdc",
   "metadata": {},
   "source": [
    "**Q 3. What is the difference between discrete and continuous distributions?**"
   ]
  },
  {
   "cell_type": "markdown",
   "id": "b65a0e4f-b70a-4231-a02f-32a94260aa1e",
   "metadata": {},
   "source": [
    "**Ans.** The difference between discrete and continuous distributions lies in the type of values the random variable can take and how probabilities are assigned:"
   ]
  },
  {
   "cell_type": "markdown",
   "id": "b355b814-bde0-4315-ac3c-07e041aa55b6",
   "metadata": {},
   "source": [
    "1. Discrete Distribution:\n",
    "    - Deals with discrete random variables (countable outcomes).\n",
    "    - Probabilities are assigned to specific values.\n",
    "    - Represented by a probability mass function (PMF).\n",
    "    - Example:\n",
    "        - Tossing a coin 3 times → Number of heads: 0, 1, 2, or 3\n",
    "        - Each outcome has a specific probability.\n",
    "2. Continuous Distribution\n",
    "    - Deals with continuous random variables (uncountably infinite values).\n",
    "    - Probabilities are assigned over intervals, not individual values.\n",
    "    - Represented by a probability density function (PDF).\n",
    "    - Example:\n",
    "        - Height of people: Values like 170.25 cm, 170.251 cm, etc.\n",
    "        - Probability of exactly 170 cm = 0; but probability between 169.5 and 170.5 is positive."
   ]
  },
  {
   "cell_type": "markdown",
   "id": "f2192ede-7674-4867-a7a2-b668455a4957",
   "metadata": {},
   "source": [
    "**Q 4. What are probability distribution functions (PDF)?**"
   ]
  },
  {
   "cell_type": "markdown",
   "id": "acdb6fd8-a46b-46b1-abe3-69fde522cca7",
   "metadata": {},
   "source": [
    "**Ans.** In probability theory, a probability distribution function (PDF) describes how the values of a random variable are distributed—that is, how likely different outcomes are."
   ]
  },
  {
   "cell_type": "markdown",
   "id": "0acd4435-9aa1-4cc0-b687-dec73294c033",
   "metadata": {},
   "source": [
    "There are two main types, depending on whether the random variable is discrete or continuous:"
   ]
  },
  {
   "cell_type": "markdown",
   "id": "d14127ff-6ade-4f03-a89c-063c974c04ec",
   "metadata": {},
   "source": [
    " 1. For Discrete Random Variables:\n",
    "Probability Mass Function (PMF)\n",
    "\n",
    "Gives the probability that a discrete random variable is exactly equal to some value.\n",
    "\n",
    "Notation:\n",
    "                    𝑃(𝑋=𝑥)\n",
    "                    \n",
    "Example: Tossing a fair die →\n",
    "\n",
    "𝑃(𝑋=3) =1/6\n",
    " \n",
    "2. For Continuous Random Variables:\n",
    "Probability Density Function (PDF)\n",
    "\n",
    "Describes the relative likelihood for a continuous random variable to take on a value.\n",
    "\n",
    "Probability is found over an interval, not at a single point.\n",
    "\n",
    "The area under the curve between two values represents the probability:\n",
    "\n",
    "𝑃 (𝑎≤𝑋≤𝑏) = ∫𝑎𝑏𝑓(𝑥)\n",
    " \n",
    "𝑑\n",
    "𝑥\n",
    "P(a≤X≤b)=∫ \n",
    "a\n",
    "b\n",
    "​\n",
    " f(x)dx\n",
    "For any single value:\n",
    "\n",
    "𝑃\n",
    "(\n",
    "𝑋\n",
    "=\n",
    "𝑥\n",
    ")\n",
    "=\n",
    "0\n",
    "P(X=x)=0\n",
    "(because there's an infinite number of possible values)\n",
    "\n",
    "Example: Normal distribution with mean = 0 and standard deviation = 1\n",
    "\n",
    "Bell-shaped curve\n",
    "\n",
    "PDF gives higher values near the mean\n",
    "\n"
   ]
  },
  {
   "cell_type": "code",
   "execution_count": null,
   "id": "e1256b3d-4173-4acb-b016-720a9fabbb4c",
   "metadata": {},
   "outputs": [],
   "source": []
  },
  {
   "cell_type": "code",
   "execution_count": null,
   "id": "69d2ded5-4548-46c5-b77a-5a21af6f4e0b",
   "metadata": {},
   "outputs": [],
   "source": []
  },
  {
   "cell_type": "code",
   "execution_count": null,
   "id": "33df8eb2-7025-4cab-ab0b-4af728b3046a",
   "metadata": {},
   "outputs": [],
   "source": []
  },
  {
   "cell_type": "code",
   "execution_count": null,
   "id": "3600cc3d-633d-4b21-8634-b4d005efc8a4",
   "metadata": {},
   "outputs": [],
   "source": []
  },
  {
   "cell_type": "code",
   "execution_count": null,
   "id": "640f16c1-5655-4976-a4e2-4c9091ad2c36",
   "metadata": {},
   "outputs": [],
   "source": []
  },
  {
   "cell_type": "code",
   "execution_count": null,
   "id": "a1a058a0-4f6a-406d-98f8-4f5a4d937321",
   "metadata": {},
   "outputs": [],
   "source": []
  },
  {
   "cell_type": "code",
   "execution_count": null,
   "id": "0647d566-fdcd-4120-9139-40748342cb43",
   "metadata": {},
   "outputs": [],
   "source": []
  },
  {
   "cell_type": "code",
   "execution_count": null,
   "id": "6baf802b-4703-473b-b06f-3549898f7788",
   "metadata": {},
   "outputs": [],
   "source": []
  },
  {
   "cell_type": "code",
   "execution_count": null,
   "id": "ea20793b-a7dd-4698-85e1-cdcfec038630",
   "metadata": {},
   "outputs": [],
   "source": []
  },
  {
   "cell_type": "code",
   "execution_count": null,
   "id": "4336a601-83db-4b70-b6bd-5ece1c994438",
   "metadata": {},
   "outputs": [],
   "source": []
  },
  {
   "cell_type": "code",
   "execution_count": null,
   "id": "8107b1d8-7726-44c6-9a38-63cd00178ee9",
   "metadata": {},
   "outputs": [],
   "source": []
  }
 ],
 "metadata": {
  "kernelspec": {
   "display_name": "Python 3 (ipykernel)",
   "language": "python",
   "name": "python3"
  },
  "language_info": {
   "codemirror_mode": {
    "name": "ipython",
    "version": 3
   },
   "file_extension": ".py",
   "mimetype": "text/x-python",
   "name": "python",
   "nbconvert_exporter": "python",
   "pygments_lexer": "ipython3",
   "version": "3.13.3"
  }
 },
 "nbformat": 4,
 "nbformat_minor": 5
}
