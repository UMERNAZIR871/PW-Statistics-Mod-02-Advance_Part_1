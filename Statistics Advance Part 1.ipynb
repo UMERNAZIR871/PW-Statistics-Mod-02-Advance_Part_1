{
 "cells": [
  {
   "cell_type": "markdown",
   "id": "2d570a47-31ba-4c17-93d2-09c670c899ac",
   "metadata": {},
   "source": [
    "# Statistics Advance Part 1"
   ]
  },
  {
   "cell_type": "markdown",
   "id": "a83e8dc2-ff7b-4f22-a635-6ed8aacafd44",
   "metadata": {},
   "source": [
    "#     Theory Section"
   ]
  },
  {
   "cell_type": "markdown",
   "id": "98b71758-55dd-499b-85d0-4bd0c0232598",
   "metadata": {},
   "source": [
    "**Q 1.  What is a random variable in probability theory?**"
   ]
  },
  {
   "cell_type": "markdown",
   "id": "c2f9aa7a-1886-4543-b9ab-90e232f2baf0",
   "metadata": {},
   "source": [
    "**Ans.** In probability theory, a random variable is a function that assigns a numerical value to each outcome in a sample space of a random experiment.\n",
    "\n",
    "- Two Key Types:\n",
    "1. Discrete Random Variable:\n",
    "    - Takes on a countable number of possible values.\n",
    "    - Example: The result of rolling a die (1, 2, 3, 4, 5, 6).\n",
    "\n",
    "2. Continuous Random Variable:\n",
    "    - Takes on an infinite number of possible values within a given range.\n",
    "    - Example: The exact height of a person (e.g., 170.25 cm)."
   ]
  },
  {
   "cell_type": "markdown",
   "id": "b62175f5-c348-4cf5-af8a-2e5f48a22d15",
   "metadata": {},
   "source": [
    "Example:\n",
    "- If you toss a fair coin:\n",
    "    - Let X be a random variable defined as:\n",
    "    - X = 1 if heads,\n",
    "    - X = 0 if tails.\n",
    "    - Then X is a discrete random variable.\n",
    "\n",
    "- Why It Matters:\n",
    "    - Random variables allow us to quantify uncertainty, enabling the use of tools like:\n",
    "         - Probability distributions\n",
    "         - Expected value\n",
    "         - Variance\n",
    "         - Standard deviation"
   ]
  }
 ],
 "metadata": {
  "kernelspec": {
   "display_name": "Python 3 (ipykernel)",
   "language": "python",
   "name": "python3"
  },
  "language_info": {
   "codemirror_mode": {
    "name": "ipython",
    "version": 3
   },
   "file_extension": ".py",
   "mimetype": "text/x-python",
   "name": "python",
   "nbconvert_exporter": "python",
   "pygments_lexer": "ipython3",
   "version": "3.13.3"
  }
 },
 "nbformat": 4,
 "nbformat_minor": 5
}
